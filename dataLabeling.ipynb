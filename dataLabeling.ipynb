{
 "cells": [
  {
   "cell_type": "code",
   "execution_count": 42,
   "metadata": {},
   "outputs": [
    {
     "name": "stdout",
     "output_type": "stream",
     "text": [
      "Note: you may need to restart the kernel to use updated packages.Requirement already satisfied: pyyaml in c:\\users\\anyou\\appdata\\local\\programs\\python\\python311\\lib\\site-packages (6.0.2)\n",
      "\n"
     ]
    },
    {
     "name": "stderr",
     "output_type": "stream",
     "text": [
      "\n",
      "[notice] A new release of pip is available: 24.3.1 -> 25.0.1\n",
      "[notice] To update, run: python.exe -m pip install --upgrade pip\n"
     ]
    }
   ],
   "source": [
    "%pip install pyyaml\n",
    "%pip install numpy"
   ]
  },
  {
   "cell_type": "markdown",
   "metadata": {},
   "source": [
    "# 데이터 전처리"
   ]
  },
  {
   "cell_type": "code",
   "execution_count": 2,
   "metadata": {},
   "outputs": [
    {
     "name": "stdout",
     "output_type": "stream",
     "text": [
      "[WinError 183] 파일이 이미 있으므로 만들 수 없습니다: 'dataset'\n"
     ]
    }
   ],
   "source": [
    "import os\n",
    "import shutil\n",
    "import yaml\n",
    "import numpy as np\n",
    "try:\n",
    "    os.mkdir('dataset')\n",
    "except FileExistsError as e:\n",
    "    print(e)"
   ]
  },
  {
   "cell_type": "markdown",
   "metadata": {},
   "source": [
    "## 영어 데이터를 한국어로 변환시킨다"
   ]
  },
  {
   "cell_type": "code",
   "execution_count": 2,
   "metadata": {},
   "outputs": [],
   "source": [
    "#번역기\n",
    "translater={\n",
    "    \"autumn\":\"가을 웜톤\",\n",
    "    \"fall\":\"가을 웜톤\",\n",
    "    \"winter\":\"겨울 쿨톤\",\n",
    "    \"spring\":\"봄 웜톤\",\n",
    "    \"summer\":\"여름 쿨톤\",\n",
    "}"
   ]
  },
  {
   "cell_type": "code",
   "execution_count": 3,
   "metadata": {},
   "outputs": [],
   "source": [
    "folders=os.listdir('choijungahpersonal_color/images')\n",
    "for folder in folders:\n",
    "    imgs=os.listdir(f'choijungahpersonal_color/images/{folder}')\n",
    "    for img in imgs:\n",
    "        shutil.move(f'choijungahpersonal_color/images/{folder}/{img}', f'dataset/train/{translater[folder]}/{img}')"
   ]
  },
  {
   "cell_type": "code",
   "execution_count": 4,
   "metadata": {},
   "outputs": [],
   "source": [
    "for version in range(1,8):\n",
    "    versionPath=f\"Color-Analysis-{version}\"\n",
    "    for folder in list(filter(lambda x :not \".\" in x,os.listdir(versionPath))):\n",
    "        seasons=f\"{versionPath}/{folder}\"\n",
    "        for season in os.listdir(seasons):\n",
    "            imgpath=f\"{versionPath}/{folder}/{season}\"\n",
    "            for img in os.listdir(imgpath):\n",
    "                shutil.move(f\"{imgpath}/{img}\", f'dataset/train/{translater[season.lower()]}/{img}')\n"
   ]
  },
  {
   "cell_type": "code",
   "execution_count": 5,
   "metadata": {},
   "outputs": [],
   "source": [
    "path=f\"penderie-pca-1\"\n",
    "for folder in list(filter(lambda x :not \".\" in x,os.listdir(path))):\n",
    "    seasons=f\"{path}/{folder}\"\n",
    "    for season in os.listdir(seasons):\n",
    "        imgpath=f\"{path}/{folder}/{season}\"\n",
    "        for img in os.listdir(imgpath):\n",
    "            shutil.move(f\"{imgpath}/{img}\", f'dataset/train/{translater[season.lower()]}/{img}')\n"
   ]
  },
  {
   "cell_type": "code",
   "execution_count": 6,
   "metadata": {},
   "outputs": [],
   "source": [
    "path=f\"personal-color-1\"\n",
    "for folder in list(filter(lambda x :not \".\" in x,os.listdir(path))):\n",
    "    seasons=f\"{path}/{folder}\"\n",
    "    for season in os.listdir(seasons):\n",
    "        imgpath=f\"{path}/{folder}/{season}\"\n",
    "        for img in os.listdir(imgpath):\n",
    "            shutil.move(f\"{imgpath}/{img}\", f'dataset/train/{translater[season.lower()]}/{img}')\n"
   ]
  },
  {
   "cell_type": "code",
   "execution_count": 7,
   "metadata": {},
   "outputs": [],
   "source": [
    "path=\"ShowMeTheColor/res/train\"\n",
    "for season in os.listdir(path):\n",
    "    imgpath=f\"{path}/{season}\"\n",
    "    for img in os.listdir(imgpath):\n",
    "        shutil.move(f\"{imgpath}/{img}\", f'dataset/train/{translater[season.lower()]}/{img}')"
   ]
  },
  {
   "cell_type": "code",
   "execution_count": 8,
   "metadata": {},
   "outputs": [],
   "source": [
    "path=\"two-two22personal_color/OneDrive - 숭실대학교 - Soongsil University/코딩/소공전/temp/v1/src/py/test_img\"\n",
    "for img in os.listdir(path):\n",
    "    season=\"\"\n",
    "    if \"fall\" in img.lower():\n",
    "        season=\"fall\"\n",
    "    elif \"winter\" in img.lower():\n",
    "        season=\"winter\"\n",
    "    elif \"spring\" in img.lower():\n",
    "        season=\"spring\"\n",
    "    elif \"summer\" in img.lower():\n",
    "        season=\"summer\"\n",
    "    shutil.move(f\"{path}/{img}\", f'dataset/train/{translater[season.lower()]}/{img}')"
   ]
  },
  {
   "cell_type": "code",
   "execution_count": 23,
   "metadata": {},
   "outputs": [],
   "source": [
    "path=f\"face_kind-1\"\n",
    "with open(f\"{path}/data.yaml\") as f:\n",
    "    names=yaml.safe_load(f)['names']\n",
    "for folder in list(filter(lambda x :not \".\" in x,os.listdir(path))):\n",
    "    folderpath=f\"{path}/{folder}\"\n",
    "    for img in os.listdir(f\"{folderpath}/images\"):\n",
    "        fname=\".\".join(img.split(\".\")[0:-1])\n",
    "        txt=f\"{fname}.txt\"\n",
    "        with open(f\"{folderpath}/labels/{txt}\") as f:\n",
    "            data=list(map(lambda x: int(x.split(\" \")[0]),f.readlines()))\n",
    "        data,c=np.unique(data,return_inverse=True)\n",
    "        season=names[data[np.argmax(c)]]\n",
    "        imgpath=f\"{path}/{folder}/images/{img}\"\n",
    "        shutil.move(imgpath, f'dataset/train/{translater[season.lower()]}/{img}')\n"
   ]
  },
  {
   "cell_type": "code",
   "execution_count": null,
   "metadata": {},
   "outputs": [],
   "source": [
    "for i in range(1,3):\n",
    "    path=f\"facekind-{i}\"\n",
    "    with open(f\"{path}/data.yaml\") as f:\n",
    "        names=yaml.safe_load(f)['names']\n",
    "    for folder in list(filter(lambda x :not \".\" in x,os.listdir(path))):\n",
    "        folderpath=f\"{path}/{folder}\"\n",
    "        for img in os.listdir(f\"{folderpath}/images\"):\n",
    "            fname=\".\".join(img.split(\".\")[0:-1])\n",
    "            txt=f\"{fname}.txt\"\n",
    "            with open(f\"{folderpath}/labels/{txt}\") as f:\n",
    "                data=list(map(lambda x: int(x.split(\" \")[0]),f.readlines()))\n",
    "            data,c=np.unique(data,return_inverse=True)\n",
    "            season=names[data[np.argmax(c)]]\n",
    "            imgpath=f\"{path}/{folder}/images/{img}\"\n",
    "            shutil.move(imgpath, f'dataset/train/{translater[season.lower()]}/{img}')\n"
   ]
  },
  {
   "cell_type": "code",
   "execution_count": 34,
   "metadata": {},
   "outputs": [],
   "source": [
    "path=f\"facekind-3\"\n",
    "with open(f\"{path}/data.yaml\") as f:\n",
    "    names=yaml.safe_load(f)['names']\n",
    "for folder in list(filter(lambda x :not \".\" in x,os.listdir(path))):\n",
    "    folderpath=f\"{path}/{folder}\"\n",
    "    for img in os.listdir(f\"{folderpath}/images\"):\n",
    "        fname=\".\".join(img.split(\".\")[0:-1])\n",
    "        txt=f\"{fname}.txt\"\n",
    "        with open(f\"{folderpath}/labels/{txt}\") as f:\n",
    "            data=list(map(lambda x: int(x.split(\" \")[0]),f.readlines()))\n",
    "        data,c=np.unique(data,return_inverse=True)\n",
    "        season=names[data[np.argmax(c)]]\n",
    "        imgpath=f\"{path}/{folder}/images/{img}\"\n",
    "        shutil.move(imgpath, f'dataset/train/{translater[season.lower()]}/{img}')"
   ]
  },
  {
   "cell_type": "code",
   "execution_count": 37,
   "metadata": {},
   "outputs": [],
   "source": [
    "for i in range(1,3):\n",
    "    path=f\"pro-{i}\"\n",
    "    with open(f\"{path}/data.yaml\") as f:\n",
    "        names=yaml.safe_load(f)['names']\n",
    "    for folder in list(filter(lambda x :not \".\" in x,os.listdir(path))):\n",
    "        folderpath=f\"{path}/{folder}\"\n",
    "        for img in os.listdir(f\"{folderpath}/images\"):\n",
    "            fname=\".\".join(img.split(\".\")[0:-1])\n",
    "            txt=f\"{fname}.txt\"\n",
    "            with open(f\"{folderpath}/labels/{txt}\") as f:\n",
    "                data=list(map(lambda x: int(x.split(\" \")[0]),f.readlines()))\n",
    "            data,c=np.unique(data,return_inverse=True)\n",
    "            season=names[data[np.argmax(c)]]\n",
    "            imgpath=f\"{path}/{folder}/images/{img}\"\n",
    "            shutil.move(imgpath, f'dataset/train/{translater[season.lower()]}/{img}')"
   ]
  },
  {
   "cell_type": "markdown",
   "metadata": {},
   "source": [
    "## 데이터 분석"
   ]
  },
  {
   "cell_type": "code",
   "execution_count": 38,
   "metadata": {},
   "outputs": [
    {
     "name": "stdout",
     "output_type": "stream",
     "text": [
      "Requirement already satisfied: pandas in c:\\users\\anyou\\appdata\\local\\programs\\python\\python311\\lib\\site-packages (2.2.3)\n",
      "Requirement already satisfied: numpy>=1.23.2 in c:\\users\\anyou\\appdata\\local\\programs\\python\\python311\\lib\\site-packages (from pandas) (1.26.4)\n",
      "Requirement already satisfied: python-dateutil>=2.8.2 in c:\\users\\anyou\\appdata\\roaming\\python\\python311\\site-packages (from pandas) (2.9.0.post0)\n",
      "Requirement already satisfied: pytz>=2020.1 in c:\\users\\anyou\\appdata\\local\\programs\\python\\python311\\lib\\site-packages (from pandas) (2024.1)\n",
      "Requirement already satisfied: tzdata>=2022.7 in c:\\users\\anyou\\appdata\\local\\programs\\python\\python311\\lib\\site-packages (from pandas) (2024.1)\n",
      "Requirement already satisfied: six>=1.5 in c:\\users\\anyou\\appdata\\roaming\\python\\python311\\site-packages (from python-dateutil>=2.8.2->pandas) (1.16.0)\n",
      "Note: you may need to restart the kernel to use updated packages.\n"
     ]
    },
    {
     "name": "stderr",
     "output_type": "stream",
     "text": [
      "\n",
      "[notice] A new release of pip is available: 24.3.1 -> 25.0.1\n",
      "[notice] To update, run: python.exe -m pip install --upgrade pip\n"
     ]
    },
    {
     "name": "stdout",
     "output_type": "stream",
     "text": [
      "Requirement already satisfied: matplotlib in c:\\users\\anyou\\appdata\\local\\programs\\python\\python311\\lib\\site-packages (3.7.5)\n",
      "Requirement already satisfied: contourpy>=1.0.1 in c:\\users\\anyou\\appdata\\local\\programs\\python\\python311\\lib\\site-packages (from matplotlib) (1.3.0)\n",
      "Requirement already satisfied: cycler>=0.10 in c:\\users\\anyou\\appdata\\local\\programs\\python\\python311\\lib\\site-packages (from matplotlib) (0.12.1)\n",
      "Requirement already satisfied: fonttools>=4.22.0 in c:\\users\\anyou\\appdata\\local\\programs\\python\\python311\\lib\\site-packages (from matplotlib) (4.53.1)\n",
      "Requirement already satisfied: kiwisolver>=1.0.1 in c:\\users\\anyou\\appdata\\local\\programs\\python\\python311\\lib\\site-packages (from matplotlib) (1.4.6)\n",
      "Requirement already satisfied: numpy<2,>=1.20 in c:\\users\\anyou\\appdata\\local\\programs\\python\\python311\\lib\\site-packages (from matplotlib) (1.26.4)\n",
      "Requirement already satisfied: packaging>=20.0 in c:\\users\\anyou\\appdata\\roaming\\python\\python311\\site-packages (from matplotlib) (24.1)\n",
      "Requirement already satisfied: pillow>=6.2.0 in c:\\users\\anyou\\appdata\\local\\programs\\python\\python311\\lib\\site-packages (from matplotlib) (10.4.0)\n",
      "Requirement already satisfied: pyparsing>=2.3.1 in c:\\users\\anyou\\appdata\\local\\programs\\python\\python311\\lib\\site-packages (from matplotlib) (3.1.4)\n",
      "Requirement already satisfied: python-dateutil>=2.7 in c:\\users\\anyou\\appdata\\roaming\\python\\python311\\site-packages (from matplotlib) (2.9.0.post0)\n",
      "Requirement already satisfied: six>=1.5 in c:\\users\\anyou\\appdata\\roaming\\python\\python311\\site-packages (from python-dateutil>=2.7->matplotlib) (1.16.0)\n",
      "Note: you may need to restart the kernel to use updated packages.\n"
     ]
    },
    {
     "name": "stderr",
     "output_type": "stream",
     "text": [
      "\n",
      "[notice] A new release of pip is available: 24.3.1 -> 25.0.1\n",
      "[notice] To update, run: python.exe -m pip install --upgrade pip\n"
     ]
    },
    {
     "name": "stdout",
     "output_type": "stream",
     "text": [
      "Requirement already satisfied: koreanize_matplotlib in c:\\users\\anyou\\appdata\\local\\programs\\python\\python311\\lib\\site-packages (0.1.1)\n",
      "Requirement already satisfied: matplotlib in c:\\users\\anyou\\appdata\\local\\programs\\python\\python311\\lib\\site-packages (from koreanize_matplotlib) (3.7.5)\n",
      "Requirement already satisfied: contourpy>=1.0.1 in c:\\users\\anyou\\appdata\\local\\programs\\python\\python311\\lib\\site-packages (from matplotlib->koreanize_matplotlib) (1.3.0)\n",
      "Requirement already satisfied: cycler>=0.10 in c:\\users\\anyou\\appdata\\local\\programs\\python\\python311\\lib\\site-packages (from matplotlib->koreanize_matplotlib) (0.12.1)\n",
      "Requirement already satisfied: fonttools>=4.22.0 in c:\\users\\anyou\\appdata\\local\\programs\\python\\python311\\lib\\site-packages (from matplotlib->koreanize_matplotlib) (4.53.1)\n",
      "Requirement already satisfied: kiwisolver>=1.0.1 in c:\\users\\anyou\\appdata\\local\\programs\\python\\python311\\lib\\site-packages (from matplotlib->koreanize_matplotlib) (1.4.6)\n",
      "Requirement already satisfied: numpy<2,>=1.20 in c:\\users\\anyou\\appdata\\local\\programs\\python\\python311\\lib\\site-packages (from matplotlib->koreanize_matplotlib) (1.26.4)\n",
      "Requirement already satisfied: packaging>=20.0 in c:\\users\\anyou\\appdata\\roaming\\python\\python311\\site-packages (from matplotlib->koreanize_matplotlib) (24.1)\n",
      "Requirement already satisfied: pillow>=6.2.0 in c:\\users\\anyou\\appdata\\local\\programs\\python\\python311\\lib\\site-packages (from matplotlib->koreanize_matplotlib) (10.4.0)\n",
      "Requirement already satisfied: pyparsing>=2.3.1 in c:\\users\\anyou\\appdata\\local\\programs\\python\\python311\\lib\\site-packages (from matplotlib->koreanize_matplotlib) (3.1.4)\n",
      "Requirement already satisfied: python-dateutil>=2.7 in c:\\users\\anyou\\appdata\\roaming\\python\\python311\\site-packages (from matplotlib->koreanize_matplotlib) (2.9.0.post0)\n",
      "Requirement already satisfied: six>=1.5 in c:\\users\\anyou\\appdata\\roaming\\python\\python311\\site-packages (from python-dateutil>=2.7->matplotlib->koreanize_matplotlib) (1.16.0)\n",
      "Note: you may need to restart the kernel to use updated packages.\n"
     ]
    },
    {
     "name": "stderr",
     "output_type": "stream",
     "text": [
      "\n",
      "[notice] A new release of pip is available: 24.3.1 -> 25.0.1\n",
      "[notice] To update, run: python.exe -m pip install --upgrade pip\n"
     ]
    }
   ],
   "source": [
    "%pip install pandas\n",
    "%pip install matplotlib\n",
    "%pip install koreanize_matplotlib"
   ]
  },
  {
   "cell_type": "code",
   "execution_count": 4,
   "metadata": {},
   "outputs": [],
   "source": [
    "import pandas as pd\n",
    "import koreanize_matplotlib\n",
    "import matplotlib.pyplot as plt"
   ]
  }
 ],
 "metadata": {
  "kernelspec": {
   "display_name": "Python 3",
   "language": "python",
   "name": "python3"
  },
  "language_info": {
   "codemirror_mode": {
    "name": "ipython",
    "version": 3
   },
   "file_extension": ".py",
   "mimetype": "text/x-python",
   "name": "python",
   "nbconvert_exporter": "python",
   "pygments_lexer": "ipython3",
   "version": "3.11.9"
  }
 },
 "nbformat": 4,
 "nbformat_minor": 2
}
