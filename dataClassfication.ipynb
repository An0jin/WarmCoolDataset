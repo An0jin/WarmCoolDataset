{
 "cells": [
  {
   "cell_type": "code",
   "execution_count": 4,
   "id": "e3321fe3",
   "metadata": {},
   "outputs": [],
   "source": [
    "import shutil\n",
    "import os"
   ]
  },
  {
   "cell_type": "code",
   "execution_count": 2,
   "id": "33cec469",
   "metadata": {},
   "outputs": [],
   "source": [
    "folders=['facekind-3','PC-2','personalcolor-2']"
   ]
  },
  {
   "cell_type": "code",
   "execution_count": 10,
   "id": "b533bb82",
   "metadata": {},
   "outputs": [],
   "source": [
    "for folder in folders:\n",
    "    for file in list(filter(lambda x: '.' not in x, os.listdir(folder))):\n",
    "        path=os.path.join(folder, file)\n",
    "        for kind in os.listdir(path):\n",
    "            kind_path=os.path.join(path, kind)\n",
    "            for img in os.listdir(kind_path):\n",
    "                img_path=os.path.join(kind_path, img)\n",
    "                target=os.path.join(\"dataset\", file,kind)\n",
    "                shutil.move(img_path, target)"
   ]
  }
 ],
 "metadata": {
  "kernelspec": {
   "display_name": "Python 3",
   "language": "python",
   "name": "python3"
  },
  "language_info": {
   "codemirror_mode": {
    "name": "ipython",
    "version": 3
   },
   "file_extension": ".py",
   "mimetype": "text/x-python",
   "name": "python",
   "nbconvert_exporter": "python",
   "pygments_lexer": "ipython3",
   "version": "3.13.3"
  }
 },
 "nbformat": 4,
 "nbformat_minor": 5
}
