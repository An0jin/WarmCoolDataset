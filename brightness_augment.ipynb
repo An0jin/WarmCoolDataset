{
 "cells": [
  {
   "cell_type": "code",
   "execution_count": 1,
   "id": "fa9a884c",
   "metadata": {},
   "outputs": [
    {
     "name": "stdout",
     "output_type": "stream",
     "text": [
      "Defaulting to user installation because normal site-packages is not writeable\n",
      "Requirement already satisfied: opencv-python in /home/an0jin/.local/lib/python3.12/site-packages (4.11.0.86)\n",
      "Requirement already satisfied: numpy>=1.21.2 in /home/an0jin/.local/lib/python3.12/site-packages (from opencv-python) (2.1.1)\n",
      "Note: you may need to restart the kernel to use updated packages.\n"
     ]
    }
   ],
   "source": [
    "%pip install opencv-python"
   ]
  },
  {
   "cell_type": "code",
   "execution_count": 1,
   "id": "c8231d0e",
   "metadata": {},
   "outputs": [],
   "source": [
    "import cv2\n",
    "import os\n",
    "import shutil\n",
    "folders=list(filter(lambda x: \".\" not in x, os.listdir(\"dataset\")))\n",
    "def images(folder):\n",
    "    return f\"dataset/{folder}/images\"\n",
    "\n",
    "def labels(folder):\n",
    "    return f\"dataset/{folder}/labels\"\n",
    "\n",
    "for folder in folders:\n",
    "    img_dir = images(folder)\n",
    "    lbl_dir = labels(folder)\n",
    "    for filename in os.listdir(img_dir):\n",
    "        img = cv2.imread(f\"{img_dir}/{filename}\")\n",
    "        fname = os.path.splitext(filename)[0]\n",
    "        for beta in range(0, 51, 5):\n",
    "            for alpha in [0.8, 1.0, 1.2]:\n",
    "                brighter = cv2.convertScaleAbs(img, alpha=alpha, beta=beta)\n",
    "                cv2.imwrite(f\"{img_dir}/{fname}_{beta}_{alpha}.jpg\", brighter)\n",
    "                shutil.copy(f\"{lbl_dir}/{fname}.txt\", f\"{lbl_dir}/{fname}_{beta}_{alpha}.txt\")"
   ]
  }
 ],
 "metadata": {
  "kernelspec": {
   "display_name": "Python 3",
   "language": "python",
   "name": "python3"
  },
  "language_info": {
   "codemirror_mode": {
    "name": "ipython",
    "version": 3
   },
   "file_extension": ".py",
   "mimetype": "text/x-python",
   "name": "python",
   "nbconvert_exporter": "python",
   "pygments_lexer": "ipython3",
   "version": "3.12.3"
  }
 },
 "nbformat": 4,
 "nbformat_minor": 5
}
