{
 "cells": [
  {
   "cell_type": "code",
   "execution_count": 13,
   "id": "fa9a884c",
   "metadata": {},
   "outputs": [
    {
     "name": "stdout",
     "output_type": "stream",
     "text": [
      "Requirement already satisfied: opencv-python in c:\\users\\anyou\\appdata\\local\\programs\\python\\python311\\lib\\site-packages (4.11.0.86)\n",
      "Requirement already satisfied: numpy>=1.21.2 in c:\\users\\anyou\\appdata\\local\\programs\\python\\python311\\lib\\site-packages (from opencv-python) (1.26.4)\n",
      "Note: you may need to restart the kernel to use updated packages.\n"
     ]
    }
   ],
   "source": [
    "%pip install opencv-python"
   ]
  },
  {
   "cell_type": "code",
   "execution_count": 1,
   "id": "c8231d0e",
   "metadata": {},
   "outputs": [],
   "source": [
    "import cv2\n",
    "import os\n",
    "import shutil\n",
    "folders=list(filter(lambda x: \".\" not in x, os.listdir(\"dataset\")))\n",
    "def images(folder):\n",
    "    return f\"Dataset/{folder}/images\"\n",
    "\n",
    "def labels(folder):\n",
    "    return f\"Dataset/{folder}/labels\"\n",
    "\n",
    "for folder in folders:\n",
    "    img_dir = images(folder)\n",
    "    lbl_dir = labels(folder)\n",
    "    for filename in os.listdir(img_dir):\n",
    "        img = cv2.imread(f\"{img_dir}/{filename}\")\n",
    "        fname = os.path.splitext(filename)[0]\n",
    "        for beta in range(-50, 51, 20):\n",
    "            for alpha in [0.8, 1.0, 1.2]:\n",
    "                brighter = cv2.convertScaleAbs(img, alpha=alpha, beta=beta)\n",
    "                cv2.imwrite(f\"{img_dir}/{fname}_{beta}_{alpha}.jpg\", brighter)\n",
    "                shutil.copy(f\"{lbl_dir}/{fname}.txt\", f\"{lbl_dir}/{fname}_{beta}_{alpha}.txt\")"
   ]
  }
 ],
 "metadata": {
  "kernelspec": {
   "display_name": "Python 3",
   "language": "python",
   "name": "python3"
  },
  "language_info": {
   "codemirror_mode": {
    "name": "ipython",
    "version": 3
   },
   "file_extension": ".py",
   "mimetype": "text/x-python",
   "name": "python",
   "nbconvert_exporter": "python",
   "pygments_lexer": "ipython3",
   "version": "3.11.9"
  }
 },
 "nbformat": 4,
 "nbformat_minor": 5
}
