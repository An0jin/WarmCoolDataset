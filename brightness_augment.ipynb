{
 "cells": [
  {
   "cell_type": "code",
   "execution_count": 13,
   "id": "fa9a884c",
   "metadata": {},
   "outputs": [
    {
     "name": "stdout",
     "output_type": "stream",
     "text": [
      "Requirement already satisfied: opencv-python in c:\\users\\anyou\\appdata\\local\\programs\\python\\python311\\lib\\site-packages (4.11.0.86)\n",
      "Requirement already satisfied: numpy>=1.21.2 in c:\\users\\anyou\\appdata\\local\\programs\\python\\python311\\lib\\site-packages (from opencv-python) (1.26.4)\n",
      "Note: you may need to restart the kernel to use updated packages.\n"
     ]
    }
   ],
   "source": [
    "%pip install opencv-python"
   ]
  },
  {
   "cell_type": "code",
   "execution_count": 26,
   "id": "5e2062af",
   "metadata": {},
   "outputs": [
    {
     "data": {
      "text/plain": [
       "['test', 'train', 'valid']"
      ]
     },
     "execution_count": 26,
     "metadata": {},
     "output_type": "execute_result"
    }
   ],
   "source": [
    "import os\n",
    "folders=list(filter(lambda x: \".\" not in x, os.listdir(\"dataset\")))\n",
    "folders"
   ]
  },
  {
   "cell_type": "code",
   "execution_count": 24,
   "id": "655613a9",
   "metadata": {},
   "outputs": [],
   "source": [
    "\n",
    "def images(folder):\n",
    "    return f\"Dataset/{folder}/images\"\n",
    "\n",
    "def labels(folder):\n",
    "    return f\"Dataset/{folder}/labels\"\n"
   ]
  },
  {
   "cell_type": "code",
   "execution_count": 28,
   "id": "4d91b916",
   "metadata": {},
   "outputs": [
    {
     "data": {
      "text/plain": [
       "'dataset/train/test/10_jpg.rf.9ca1236bc5653b0a1917285c1e87352a.jpg'"
      ]
     },
     "execution_count": 28,
     "metadata": {},
     "output_type": "execute_result"
    }
   ],
   "source": [
    "f\"dataset/train/{folder}/{filename}\""
   ]
  },
  {
   "cell_type": "code",
   "execution_count": 29,
   "id": "c8231d0e",
   "metadata": {},
   "outputs": [],
   "source": [
    "import cv2\n",
    "import os\n",
    "import shutil\n",
    "for folder in folders:\n",
    "    for filename in os.listdir(images(folder)):\n",
    "        img = cv2.imread(f\"{images(folder)}/{filename}\")\n",
    "        fname = os.path.splitext(filename)[0]\n",
    "        for beta in range(-30, 100):\n",
    "            if bool(beta):\n",
    "                brighter = cv2.convertScaleAbs(img, alpha=1, beta=beta)\n",
    "                cv2.imwrite(f\"dataset/train/{folder}/{fname}_{beta}.jpg\", brighter)\n",
    "                shutil.copy(labels(folder)+\"/\"+fname+\".txt\", labels(folder)+\"/\"+fname+\"_\"+str(beta)+\".txt\")\n",
    "                \n",
    "\n"
   ]
  }
 ],
 "metadata": {
  "kernelspec": {
   "display_name": "Python 3",
   "language": "python",
   "name": "python3"
  },
  "language_info": {
   "codemirror_mode": {
    "name": "ipython",
    "version": 3
   },
   "file_extension": ".py",
   "mimetype": "text/x-python",
   "name": "python",
   "nbconvert_exporter": "python",
   "pygments_lexer": "ipython3",
   "version": "3.11.9"
  }
 },
 "nbformat": 4,
 "nbformat_minor": 5
}
